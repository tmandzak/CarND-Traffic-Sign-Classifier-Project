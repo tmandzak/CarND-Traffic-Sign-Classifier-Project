{
 "cells": [
  {
   "cell_type": "markdown",
   "metadata": {
    "deletable": true,
    "editable": true
   },
   "source": [
    "# Self-Driving Car Engineer Nanodegree\n",
    "\n",
    "## Deep Learning\n",
    "\n",
    "## Project: Build a Traffic Sign Recognition Classifier\n",
    "\n",
    "In this notebook, a template is provided for you to implement your functionality in stages, which is required to successfully complete this project. If additional code is required that cannot be included in the notebook, be sure that the Python code is successfully imported and included in your submission if necessary. \n",
    "\n",
    "> **Note**: Once you have completed all of the code implementations, you need to finalize your work by exporting the iPython Notebook as an HTML document. Before exporting the notebook to html, all of the code cells need to have been run so that reviewers can see the final implementation and output. You can then export the notebook by using the menu above and navigating to  \\n\",\n",
    "    \"**File -> Download as -> HTML (.html)**. Include the finished document along with this notebook as your submission. \n",
    "\n",
    "In addition to implementing code, there is a writeup to complete. The writeup should be completed in a separate file, which can be either a markdown file or a pdf document. There is a [write up template](https://github.com/udacity/CarND-Traffic-Sign-Classifier-Project/blob/master/writeup_template.md) that can be used to guide the writing process. Completing the code template and writeup template will cover all of the [rubric points](https://review.udacity.com/#!/rubrics/481/view) for this project.\n",
    "\n",
    "The [rubric](https://review.udacity.com/#!/rubrics/481/view) contains \"Stand Out Suggestions\" for enhancing the project beyond the minimum requirements. The stand out suggestions are optional. If you decide to pursue the \"stand out suggestions\", you can include the code in this Ipython notebook and also discuss the results in the writeup file.\n",
    "\n",
    "\n",
    ">**Note:** Code and Markdown cells can be executed using the **Shift + Enter** keyboard shortcut. In addition, Markdown cells can be edited by typically double-clicking the cell to enter edit mode."
   ]
  },
  {
   "cell_type": "markdown",
   "metadata": {
    "deletable": true,
    "editable": true
   },
   "source": [
    "---\n",
    "## Step 0: Load The Data"
   ]
  },
  {
   "cell_type": "code",
   "execution_count": 21,
   "metadata": {
    "collapsed": true,
    "deletable": true,
    "editable": true
   },
   "outputs": [],
   "source": [
    "import numpy as np\n",
    "import random\n",
    "import matplotlib.pyplot as plt\n",
    "%matplotlib inline\n",
    "import cv2\n",
    "import tensorflow as tf"
   ]
  },
  {
   "cell_type": "code",
   "execution_count": 22,
   "metadata": {
    "collapsed": true,
    "deletable": true,
    "editable": true
   },
   "outputs": [],
   "source": [
    "# Load pickled data\n",
    "import pickle\n",
    "\n",
    "# TODO: Fill this in based on where you saved the training and testing data\n",
    "\n",
    "training_file = 'train.p'\n",
    "validation_file= 'valid.p'\n",
    "testing_file = 'test.p'\n",
    "\n",
    "with open(training_file, mode='rb') as f:\n",
    "    train = pickle.load(f)\n",
    "with open(validation_file, mode='rb') as f:\n",
    "    valid = pickle.load(f)\n",
    "with open(testing_file, mode='rb') as f:\n",
    "    test = pickle.load(f)\n",
    "    \n",
    "X_RGB_train, y_train = train['features'], train['labels']\n",
    "X_RGB_valid, y_valid = valid['features'], valid['labels']\n",
    "X_RGB_test, y_test = test['features'], test['labels']\n",
    "\n",
    "#from sklearn.model_selection import train_test_split\n",
    "#X_train, X_valid, y_train, y_valid = train_test_split(X_train, y_train, test_size=0.2, random_state=0)"
   ]
  },
  {
   "cell_type": "markdown",
   "metadata": {
    "deletable": true,
    "editable": true
   },
   "source": [
    "---\n",
    "\n",
    "## Step 1: Dataset Summary & Exploration\n",
    "\n",
    "The pickled data is a dictionary with 4 key/value pairs:\n",
    "\n",
    "- `'features'` is a 4D array containing raw pixel data of the traffic sign images, (num examples, width, height, channels).\n",
    "- `'labels'` is a 1D array containing the label/class id of the traffic sign. The file `signnames.csv` contains id -> name mappings for each id.\n",
    "- `'sizes'` is a list containing tuples, (width, height) representing the the original width and height the image.\n",
    "- `'coords'` is a list containing tuples, (x1, y1, x2, y2) representing coordinates of a bounding box around the sign in the image. **THESE COORDINATES ASSUME THE ORIGINAL IMAGE. THE PICKLED DATA CONTAINS RESIZED VERSIONS (32 by 32) OF THESE IMAGES**\n",
    "\n",
    "Complete the basic data summary below. Use python, numpy and/or pandas methods to calculate the data summary rather than hard coding the results. For example, the [pandas shape method](http://pandas.pydata.org/pandas-docs/stable/generated/pandas.DataFrame.shape.html) might be useful for calculating some of the summary results. "
   ]
  },
  {
   "cell_type": "markdown",
   "metadata": {
    "deletable": true,
    "editable": true
   },
   "source": [
    "### Provide a Basic Summary of the Data Set Using Python, Numpy and/or Pandas"
   ]
  },
  {
   "cell_type": "code",
   "execution_count": 23,
   "metadata": {
    "collapsed": false,
    "deletable": true,
    "editable": true
   },
   "outputs": [
    {
     "name": "stdout",
     "output_type": "stream",
     "text": [
      "Number of training examples = 34799\n",
      "Number of validation examples = 4410\n",
      "Number of testing examples = 12630\n",
      "Image data shape = (32, 32, 3)\n",
      "Number of classes = 43\n"
     ]
    }
   ],
   "source": [
    "### Replace each question mark with the appropriate value. \n",
    "### Use python, pandas or numpy methods rather than hard coding the results\n",
    "\n",
    "# TODO: Number of training examples\n",
    "n_train = len(X_RGB_train)\n",
    "\n",
    "# TODO: Number of testing examples.\n",
    "n_test = len(X_RGB_test)\n",
    "\n",
    "n_valid = len(X_RGB_valid)\n",
    "\n",
    "# TODO: What's the shape of an traffic sign image?\n",
    "image_shape = X_RGB_train[0].shape\n",
    "\n",
    "# TODO: How many unique classes/labels there are in the dataset.\n",
    "n_classes = len(np.unique(y_train))\n",
    "\n",
    "print(\"Number of training examples =\", n_train)\n",
    "print(\"Number of validation examples =\", n_valid)\n",
    "print(\"Number of testing examples =\", n_test)\n",
    "print(\"Image data shape =\", image_shape)\n",
    "print(\"Number of classes =\", n_classes)"
   ]
  },
  {
   "cell_type": "markdown",
   "metadata": {
    "deletable": true,
    "editable": true
   },
   "source": [
    "### Include an exploratory visualization of the dataset"
   ]
  },
  {
   "cell_type": "markdown",
   "metadata": {
    "deletable": true,
    "editable": true
   },
   "source": [
    "Visualize the German Traffic Signs Dataset using the pickled file(s). This is open ended, suggestions include: plotting traffic sign images, plotting the count of each sign, etc.\n",
    "\n",
    "The [Matplotlib](http://matplotlib.org/) [examples](http://matplotlib.org/examples/index.html) and [gallery](http://matplotlib.org/gallery.html) pages are a great resource for doing visualizations in Python.\n",
    "\n",
    "**NOTE:** It's recommended you start with something simple first. If you wish to do more, come back to it after you've completed the rest of the sections."
   ]
  },
  {
   "cell_type": "code",
   "execution_count": 24,
   "metadata": {
    "collapsed": true,
    "deletable": true,
    "editable": true
   },
   "outputs": [],
   "source": [
    "### Data exploration visualization code goes here.\n",
    "### Feel free to use as many code cells as needed."
   ]
  },
  {
   "cell_type": "code",
   "execution_count": 25,
   "metadata": {
    "collapsed": true,
    "deletable": true,
    "editable": true
   },
   "outputs": [],
   "source": [
    "def draw_signs(X=X_RGB_train, y=y_train, image_sample_size = 50, sign=None):  #sign: None: all random, -1: one random, >-1: defined sign\n",
    "    n_cols = 10\n",
    "    n_rows = image_sample_size // n_cols\n",
    "    fig, axs = plt.subplots(n_rows, n_cols, figsize=(17, 2*n_rows))\n",
    "    axs = axs.ravel()\n",
    "    images = []\n",
    "\n",
    "    if sign == None:\n",
    "        for i in range(image_sample_size):\n",
    "            images += [random.randint(0, len(X))]        \n",
    "    else:    \n",
    "        if sign == -1:\n",
    "            sign = random.randint(0, len(np.unique(y)))\n",
    "        \n",
    "        i, j = 0, 0\n",
    "        while i<image_sample_size:\n",
    "            if y[j] == sign:\n",
    "                images += [j]\n",
    "                i += 1\n",
    "            j += 1\n",
    "    \n",
    "    for i in range(image_sample_size):\n",
    "        index = images[i]\n",
    "        image = X[index]\n",
    "        image_title = str(y[index])\n",
    "        axs[i].axis('off')\n",
    "        axs[i].imshow(image)\n",
    "        axs[i].set_title(image_title)"
   ]
  },
  {
   "cell_type": "raw",
   "metadata": {
    "deletable": true,
    "editable": true
   },
   "source": [
    "draw_signs()"
   ]
  },
  {
   "cell_type": "raw",
   "metadata": {
    "collapsed": false,
    "deletable": true,
    "editable": true
   },
   "source": [
    "plt.figure(figsize=(17,5))\n",
    "hist = plt.hist([y_train, y_test, y_valid], bins=n_classes, label=['Train','Test','Validation'])[0]\n",
    "plt.axes().set_title('Labels Frequency')\n",
    "_ = plt.legend()"
   ]
  },
  {
   "cell_type": "raw",
   "metadata": {
    "collapsed": false,
    "deletable": true,
    "editable": true
   },
   "source": [
    "print('Mean train label frequency: ',np.mean(hist[0]))"
   ]
  },
  {
   "cell_type": "raw",
   "metadata": {
    "collapsed": false,
    "deletable": true,
    "editable": true
   },
   "source": [
    "draw_signs(image_sample_size = 30, sign=np.argmin(hist[0]))"
   ]
  },
  {
   "cell_type": "raw",
   "metadata": {
    "deletable": true,
    "editable": true
   },
   "source": [
    "draw_signs(image_sample_size = 30, sign=np.argmax(hist[0]))"
   ]
  },
  {
   "cell_type": "markdown",
   "metadata": {
    "deletable": true,
    "editable": true
   },
   "source": [
    "----\n",
    "\n",
    "## Step 2: Design and Test a Model Architecture\n",
    "\n",
    "Design and implement a deep learning model that learns to recognize traffic signs. Train and test your model on the [German Traffic Sign Dataset](http://benchmark.ini.rub.de/?section=gtsrb&subsection=dataset).\n",
    "\n",
    "There are various aspects to consider when thinking about this problem:\n",
    "\n",
    "- Neural network architecture\n",
    "- Play around preprocessing techniques (normalization, rgb to grayscale, etc)\n",
    "- Number of examples per label (some have more than others).\n",
    "- Generate fake data.\n",
    "\n",
    "Here is an example of a [published baseline model on this problem](http://yann.lecun.com/exdb/publis/pdf/sermanet-ijcnn-11.pdf). It's not required to be familiar with the approach used in the paper but, it's good practice to try to read papers like these.\n",
    "\n",
    "**NOTE:** The LeNet-5 implementation shown in the [classroom](https://classroom.udacity.com/nanodegrees/nd013/parts/fbf77062-5703-404e-b60c-95b78b2f3f9e/modules/6df7ae49-c61c-4bb2-a23e-6527e69209ec/lessons/601ae704-1035-4287-8b11-e2c2716217ad/concepts/d4aca031-508f-4e0b-b493-e7b706120f81) at the end of the CNN lesson is a solid starting point. You'll have to change the number of classes and possibly the preprocessing, but aside from that it's plug and play!"
   ]
  },
  {
   "cell_type": "markdown",
   "metadata": {
    "deletable": true,
    "editable": true
   },
   "source": [
    "### Pre-process the Data Set (normalization, grayscale, etc.)"
   ]
  },
  {
   "cell_type": "code",
   "execution_count": 26,
   "metadata": {
    "collapsed": true,
    "deletable": true,
    "editable": true
   },
   "outputs": [],
   "source": [
    "### Preprocess the data here. Preprocessing steps could include normalization, converting to grayscale, etc.\n",
    "### Feel free to use as many code cells as needed."
   ]
  },
  {
   "cell_type": "markdown",
   "metadata": {
    "deletable": true,
    "editable": true
   },
   "source": [
    "Use the code cell (or multiple code cells, if necessary) to implement the first step of your project."
   ]
  },
  {
   "cell_type": "raw",
   "metadata": {
    "collapsed": true,
    "deletable": true,
    "editable": true
   },
   "source": [
    "X_train = X_RGB_train\n",
    "X_valid = X_RGB_valid\n",
    "X_test = X_RGB_test"
   ]
  },
  {
   "cell_type": "code",
   "execution_count": 27,
   "metadata": {
    "collapsed": true,
    "deletable": true,
    "editable": true
   },
   "outputs": [],
   "source": [
    "#Sample image for demonstration \n",
    "images = [X_RGB_train[10000].copy()]\n",
    "image_titles = ['Sample RGB']"
   ]
  },
  {
   "cell_type": "markdown",
   "metadata": {
    "deletable": true,
    "editable": true
   },
   "source": [
    "#### Grayscale"
   ]
  },
  {
   "cell_type": "raw",
   "metadata": {},
   "source": [
    "X_train = np.sum(X_train/3, axis=3, keepdims=True)\n",
    "X_test = np.sum(X_test/3, axis=3, keepdims=True)\n",
    "X_valid = np.sum(X_valid/3, axis=3, keepdims=True)"
   ]
  },
  {
   "cell_type": "raw",
   "metadata": {
    "collapsed": true,
    "deletable": true,
    "editable": true
   },
   "source": [
    "X_train = np.sum(X_train//3, axis=3, keepdims=True).astype('uint8')\n",
    "X_test = np.sum(X_test//3, axis=3, keepdims=True).astype('uint8')\n",
    "X_valid = np.sum(X_valid//3, axis=3, keepdims=True).astype('uint8')"
   ]
  },
  {
   "cell_type": "code",
   "execution_count": 28,
   "metadata": {
    "collapsed": false,
    "deletable": true,
    "editable": true
   },
   "outputs": [],
   "source": [
    "#Sample image for demonstration \n",
    "#images += [np.sum(images[0]//3, axis=2, keepdims=True).astype('uint8')]\n",
    "images += [np.sum(images[0]/3, axis=2, keepdims=True)]\n",
    "image_titles += ['Grayscale']"
   ]
  },
  {
   "cell_type": "markdown",
   "metadata": {
    "deletable": true,
    "editable": true
   },
   "source": [
    "#### Histogram Equalization\n",
    "\n",
    "https://en.wikipedia.org/wiki/Histogram_equalization"
   ]
  },
  {
   "cell_type": "code",
   "execution_count": 29,
   "metadata": {
    "collapsed": true,
    "deletable": true,
    "editable": true
   },
   "outputs": [],
   "source": [
    "def equalizeHist(X):\n",
    "    for i in range(len(X)):\n",
    "        X[i] = cv2.equalizeHist(X[i].astype('uint8'))[:,:,None]\n",
    "    return X    "
   ]
  },
  {
   "cell_type": "raw",
   "metadata": {
    "collapsed": true,
    "deletable": true,
    "editable": true
   },
   "source": [
    "X_train = equalizeHist(X_train)\n",
    "X_test = equalizeHist(X_test)\n",
    "X_valid = equalizeHist(X_valid)"
   ]
  },
  {
   "cell_type": "code",
   "execution_count": 30,
   "metadata": {
    "collapsed": false,
    "deletable": true,
    "editable": true
   },
   "outputs": [],
   "source": [
    "#Sample image for demonstration \n",
    "images += equalizeHist([images[-1]])\n",
    "image_titles += ['Histogram Equalization']"
   ]
  },
  {
   "cell_type": "code",
   "execution_count": 31,
   "metadata": {
    "collapsed": false,
    "deletable": true,
    "editable": true
   },
   "outputs": [
    {
     "data": {
      "image/png": "[encoded data removed]",
      "text/plain": [
       "<matplotlib.figure.Figure at 0xa7b40f0>"
      ]
     },
     "metadata": {},
     "output_type": "display_data"
    }
   ],
   "source": [
    "#Draw samples\n",
    "fig, axs = plt.subplots(1, len(images), figsize=(17, 3))\n",
    "for i in range(len(images)):\n",
    "    axs[i].axis('off')\n",
    "    axs[i].imshow(images[i].squeeze(), cmap='gray')\n",
    "    _ = axs[i].set_title(image_titles[i]+'  '+str(images[i].shape))"
   ]
  },
  {
   "cell_type": "markdown",
   "metadata": {
    "deletable": true,
    "editable": true
   },
   "source": [
    "#### Perturbation"
   ]
  },
  {
   "cell_type": "markdown",
   "metadata": {
    "deletable": true,
    "editable": true
   },
   "source": [
    "Samples are randomly perturbed in\n",
    "position ([-2,2] pixels), in scale ([.9,1.1] ratio) and rotation\n",
    "([-15,+15] degrees)."
   ]
  },
  {
   "cell_type": "code",
   "execution_count": 55,
   "metadata": {
    "collapsed": false,
    "deletable": true,
    "editable": true
   },
   "outputs": [],
   "source": [
    "def translation(src):\n",
    "    tx, ty = np.random.randint(-2, 2, 2)\n",
    "    M = np.float32([[1, 0, tx], [0, 1, ty]])\n",
    "    dsize = (src.shape[1],src.shape[0])\n",
    "    dst = cv2.warpAffine(src, M, dsize, borderMode=1)\n",
    "    \n",
    "    if src.shape[2] == 1:\n",
    "        dst = dst[:, :, None]\n",
    "    \n",
    "    return dst\n",
    "\n",
    "def scaling(src):   \n",
    "    dsize = (src.shape[1],src.shape[0])\n",
    "    ratio = 0.9 + np.random.rand(1)*0.2\n",
    "    img = cv2.resize(src, None, fx=ratio, fy=ratio)\n",
    "    \n",
    "    if img.shape[0]<32:\n",
    "        dst = cv2.resize(img, dsize)#[:, :, None]\n",
    "    else:\n",
    "        dst = img[:32, :32]#[:32, :32, None]\n",
    "        \n",
    "    if src.shape[2] == 1:\n",
    "        dst = dst[:, :, None]\n",
    "\n",
    "    return dst\n",
    "\n",
    "def rotation(src):\n",
    "    cols, rows = src.shape[:2]\n",
    "    angle = np.random.randint(-15, 15, 1)\n",
    "    dsize = (cols, rows)\n",
    "    M = cv2.getRotationMatrix2D((cols/2,rows/2), angle, 1)\n",
    "    \n",
    "    dst = cv2.warpAffine(src, M, dsize, borderMode=1)\n",
    "    \n",
    "    if src.shape[2] == 1:\n",
    "        dst = dst[:, :, None]    \n",
    "    \n",
    "    return dst\n",
    "\n",
    "def perturbation(src):\n",
    "    return rotation(scaling(translation(src)))"
   ]
  },
  {
   "cell_type": "code",
   "execution_count": 61,
   "metadata": {
    "collapsed": false,
    "deletable": true,
    "editable": true
   },
   "outputs": [
    {
     "data": {
      "image/png": "[encoded data removed]",
      "text/plain": [
       "<matplotlib.figure.Figure at 0xa67bb38>"
      ]
     },
     "metadata": {},
     "output_type": "display_data"
    }
   ],
   "source": [
    "sample = images[0]\n",
    "images_perturb = [sample, translation(sample), scaling(sample), rotation(sample), perturbation(sample)]\n",
    "image_titles = ['sample', 'translation', 'scaling', 'rotation', 'all']\n",
    "\n",
    "fig, axs = plt.subplots(1, len(images_perturb), figsize=(17, 3))\n",
    "for i in range(len(images_perturb)):\n",
    "    axs[i].axis('off')\n",
    "    axs[i].imshow(images_perturb[i].squeeze(), cmap='gray')\n",
    "    _ = axs[i].set_title(image_titles[i]+'  '+str(images_perturb[i].shape))"
   ]
  },
  {
   "cell_type": "markdown",
   "metadata": {
    "deletable": true,
    "editable": true
   },
   "source": [
    "http://nmarkou.blogspot.ca/2017/02/the-black-magic-of-deep-learning-tips.html?utm_content=bufferab398&utm_medium=social&utm_source=twitter.com&utm_campaign=buffer&m=1\n",
    "\n",
    "http://stackoverflow.com/questions/39975676/how-to-implement-prelu-activation-in-tensorflow\n",
    "\n",
    "http://tflearn.org/layers/normalization/\n",
    "\n",
    "http://ruishu.io/2016/12/27/batchnorm/\n",
    "\n",
    "http://yann.lecun.com/exdb/publis/pdf/sermanet-ijcnn-11.pdf\n",
    "\n",
    "http://docs.opencv.org/3.1.0/d5/daf/tutorial_py_histogram_equalization.html\n",
    "\n",
    "http://docs.opencv.org/trunk/da/d6e/tutorial_py_geometric_transformations.html"
   ]
  },
  {
   "cell_type": "markdown",
   "metadata": {
    "deletable": true,
    "editable": true
   },
   "source": [
    "#### Resampling"
   ]
  },
  {
   "cell_type": "code",
   "execution_count": null,
   "metadata": {
    "collapsed": false,
    "deletable": true,
    "editable": true
   },
   "outputs": [],
   "source": [
    "def resample(X, y, undersample=True, oversample=True, perturb=True):\n",
    "    if undersample | oversample:\n",
    "        unique, counts = np.unique(y_train, return_counts=True)\n",
    "        n_classes = len(unique)\n",
    "        mid = int(np.mean(counts))\n",
    "    \n",
    "        for i in range(n_classes):\n",
    "            count = counts[i]\n",
    "            class_input = list(np.where(y == i)[0])\n",
    "            if oversample & (count < mid):\n",
    "                added_indexes = (class_input*(mid // count - 1) + list(np.random.choice(class_input, mid%count, replace=False)))\n",
    "                X_added = np.take(X, added_indexes, axis=0)\n",
    "                \n",
    "                if perturb:\n",
    "                    for j in range(mid-count):\n",
    "                        X_added[i] = perturbation(X_added[i])\n",
    "                \n",
    "                X = np.concatenate([X, X_added])\n",
    "                y = np.append(y, [i]*(mid-count))\n",
    "            elif undersample & (count > mid):\n",
    "                removed_indexes = np.random.choice(class_input, count-mid, replace=False)\n",
    "                X = np.delete(X, removed_indexes, axis=0)\n",
    "                y = np.delete(y, removed_indexes, axis=0)\n",
    "   \n",
    "    return X, y"
   ]
  },
  {
   "cell_type": "raw",
   "metadata": {
    "collapsed": true,
    "deletable": true,
    "editable": true
   },
   "source": [
    "y_train_old = y_train.copy()\n",
    "X_train, y_train = resample(X_train, y_train, undersample=False, oversample=False, perturb=False)"
   ]
  },
  {
   "cell_type": "raw",
   "metadata": {
    "collapsed": false,
    "deletable": true,
    "editable": true
   },
   "source": [
    "plt.figure(figsize=(17,5))\n",
    "_ = plt.hist([y_train_old, y_train], bins=n_classes, label=['initial','resampled'])\n",
    "_ = plt.axes().set_title('Labels frequency')\n",
    "_ = plt.legend()"
   ]
  },
  {
   "cell_type": "raw",
   "metadata": {
    "deletable": true,
    "editable": true
   },
   "source": [
    "Validation accuracy of the original model with conversion to grayscale and a few ways of augmentation:\n",
    "    undersample=False, oversample=False, perturb=False :\n",
    "    undersample=True, oversample=False, perturb=False :\n",
    "    undersample=False, oversample=True, perturb=False :\n",
    "    undersample=False, oversample=True, perturb=True :\n",
    "    undersample=True, oversample=True, perturb=True :"
   ]
  },
  {
   "cell_type": "markdown",
   "metadata": {
    "deletable": true,
    "editable": true
   },
   "source": [
    "#### Rescaling"
   ]
  },
  {
   "cell_type": "code",
   "execution_count": null,
   "metadata": {
    "collapsed": true,
    "deletable": true,
    "editable": true
   },
   "outputs": [],
   "source": [
    "def rescale(X, way=None):\n",
    "    if way == 'squeeze':\n",
    "        ## Squeezing the input data to [-1, +1)\n",
    "        #l = np.max(X) - np.min(X)\n",
    "        #output = (2*X - l)/l \n",
    "        output = (X - 128)/128\n",
    "    elif way == 'standardize':\n",
    "        ## Standardization of the input data\n",
    "        output = (X - np.mean(X))/np.std(X) \n",
    "    elif way == 'normalize':\n",
    "        ## Normalization of the input data to [0, 1]\n",
    "        output = X/255 #np.max(X)\n",
    "    else:\n",
    "        output = X\n",
    "        \n",
    "    return output"
   ]
  },
  {
   "cell_type": "code",
   "execution_count": null,
   "metadata": {
    "collapsed": false,
    "deletable": true,
    "editable": true
   },
   "outputs": [],
   "source": [
    "sample = images[-1]\n",
    "images = [sample, rescale(sample, way='squeeze'), rescale(sample, way='standardize'), rescale(sample, way='normalize')]\n",
    "image_titles = ['input', 'squeeze to [-1, 1)', 'standardize', 'normalize']\n",
    "\n",
    "fig, axs = plt.subplots(1, len(images), figsize=(17, 3))\n",
    "for i in range(len(images)):\n",
    "    axs[i].axis('off')\n",
    "    axs[i].imshow(images[i].squeeze(), cmap='gray')\n",
    "    _ = axs[i].set_title(image_titles[i])"
   ]
  },
  {
   "cell_type": "raw",
   "metadata": {
    "collapsed": false,
    "deletable": true,
    "editable": true
   },
   "source": [
    "way = 'squeeze' #'standardize'#'normalize'  #'standardize' #'squeeze'\n",
    "X_train, X_valid, X_test = rescale(X_train, way=way), rescale(X_valid, way=way), rescale(X_test, way=way)"
   ]
  },
  {
   "cell_type": "raw",
   "metadata": {
    "deletable": true,
    "editable": true
   },
   "source": [
    "Validation accuracy of the original model with conversion to grayscale, augmentation and a few ways of normalization:\n",
    "    way = 'none'  :\n",
    "    way = 'standardize' :\n",
    "    way = 'normalize' :\n",
    "    way = 'squeeze' :"
   ]
  },
  {
   "cell_type": "code",
   "execution_count": null,
   "metadata": {
    "collapsed": true
   },
   "outputs": [],
   "source": [
    "def preprocess(X, y, eqHist=False, undersample=False, oversample=False, perturb=False, rescaling='None'):\n",
    "    X = np.sum(X/3, axis=3, keepdims=True)\n",
    "    \n",
    "    if eqHist:\n",
    "        X = equalizeHist(X)\n",
    "\n",
    "    X, y = resample(X, y, undersample, oversample, perturb)\n",
    "\n",
    "    X = rescale(X, way=rescaling)   #way = 'standardize'#'normalize' #'squeeze'\n",
    "    \n",
    "    return X, y"
   ]
  },
  {
   "cell_type": "code",
   "execution_count": null,
   "metadata": {
    "collapsed": true
   },
   "outputs": [],
   "source": [
    "X_train, y_train = preprocess(X_RGB_train, y_train)\n",
    "X_valid, y_valid = preprocess(X_RGB_valid, y_valid)\n",
    "X_test, y_test = preprocess(X_RGB_test, y_test)"
   ]
  },
  {
   "cell_type": "markdown",
   "metadata": {
    "deletable": true,
    "editable": true
   },
   "source": [
    "#### Shuffle the training data"
   ]
  },
  {
   "cell_type": "code",
   "execution_count": null,
   "metadata": {
    "collapsed": false,
    "deletable": true,
    "editable": true
   },
   "outputs": [],
   "source": [
    "from sklearn.utils import shuffle\n",
    "X_train, y_train = shuffle(X_train, y_train)"
   ]
  },
  {
   "cell_type": "markdown",
   "metadata": {
    "deletable": true,
    "editable": true
   },
   "source": [
    "### Model Architecture"
   ]
  },
  {
   "cell_type": "code",
   "execution_count": null,
   "metadata": {
    "collapsed": true,
    "deletable": true,
    "editable": true
   },
   "outputs": [],
   "source": [
    "### Define your architecture here.\n",
    "### Feel free to use as many code cells as needed."
   ]
  },
  {
   "cell_type": "code",
   "execution_count": null,
   "metadata": {
    "collapsed": true,
    "deletable": true,
    "editable": true
   },
   "outputs": [],
   "source": [
    "from tensorflow.contrib.layers import flatten"
   ]
  },
  {
   "cell_type": "code",
   "execution_count": null,
   "metadata": {
    "collapsed": true,
    "deletable": true,
    "editable": true
   },
   "outputs": [],
   "source": [
    "def LeNet(x, keep_prob, inputlayers, outputlayers, mu, sigma):    \n",
    "\n",
    "    # SOLUTION: Layer 1: Convolutional. Input = 32x32x inputlayers. Output = 28x28x6.\n",
    "    sigma = np.sqrt(2/(32*32*inputlayers))\n",
    "    \n",
    "    conv1_W = tf.Variable(tf.truncated_normal(shape=(5, 5, inputlayers, 6), mean = mu, stddev = sigma))\n",
    "    conv1_b = tf.Variable(tf.zeros(6))\n",
    "    conv1   = tf.nn.conv2d(x, conv1_W, strides=[1, 1, 1, 1], padding='VALID') + conv1_b\n",
    "\n",
    "    # SOLUTION: Activation.\n",
    "    conv1 = tf.nn.relu(conv1)\n",
    "\n",
    "    # SOLUTION: Pooling. Input = 28x28x6. Output = 14x14x6.\n",
    "    conv1 = tf.nn.max_pool(conv1, ksize=[1, 2, 2, 1], strides=[1, 2, 2, 1], padding='VALID')\n",
    "\n",
    "    # SOLUTION: Layer 2: Convolutional. Output = 10x10x16.\n",
    "    sigma = np.sqrt(2/(14*14*6))\n",
    "    \n",
    "    conv2_W = tf.Variable(tf.truncated_normal(shape=(5, 5, 6, 16), mean = mu, stddev = sigma))\n",
    "    conv2_b = tf.Variable(tf.zeros(16))\n",
    "    conv2   = tf.nn.conv2d(conv1, conv2_W, strides=[1, 1, 1, 1], padding='VALID') + conv2_b\n",
    "    \n",
    "    # SOLUTION: Activation.\n",
    "    conv2 = tf.nn.relu(conv2)\n",
    "\n",
    "    # SOLUTION: Pooling. Input = 10x10x16. Output = 5x5x16.\n",
    "    conv2 = tf.nn.max_pool(conv2, ksize=[1, 2, 2, 1], strides=[1, 2, 2, 1], padding='VALID')\n",
    "\n",
    "    # SOLUTION: Flatten. Input = 5x5x16. Output = 400.\n",
    "    fc0   = flatten(conv2)\n",
    "    \n",
    "    # SOLUTION: Layer 3: Fully Connected. Input = 400. Output = 120.\n",
    "    sigma = np.sqrt(2/(400))\n",
    "    \n",
    "    fc1_W = tf.Variable(tf.truncated_normal(shape=(400, 120), mean = mu, stddev = sigma))\n",
    "    fc1_b = tf.Variable(tf.zeros(120))\n",
    "    fc1   = tf.matmul(fc0, fc1_W) + fc1_b\n",
    "    \n",
    "    # SOLUTION: Activation.\n",
    "    fc1    = tf.nn.relu(fc1)\n",
    "\n",
    "    # SOLUTION: Layer 4: Fully Connected. Input = 120. Output = 84.\n",
    "    sigma = np.sqrt(2/120)\n",
    "    \n",
    "    fc2_W  = tf.Variable(tf.truncated_normal(shape=(120, 84), mean = mu, stddev = sigma))\n",
    "    fc2_b  = tf.Variable(tf.zeros(84))\n",
    "    fc2    = tf.matmul(fc1, fc2_W) + fc2_b\n",
    "    \n",
    "    # SOLUTION: Activation.\n",
    "    fc2    = tf.nn.relu(fc2)\n",
    "    \n",
    "        # Dropout\n",
    "    fc2    = tf.nn.dropout(fc2, keep_prob)\n",
    "\n",
    "    # SOLUTION: Layer 5: Fully Connected. Input = 84. Output = outputlayers.\n",
    "    sigma = np.sqrt(1/84)\n",
    "    \n",
    "    fc3_W  = tf.Variable(tf.truncated_normal(shape=(84, outputlayers), mean = mu, stddev = sigma))\n",
    "    fc3_b  = tf.Variable(tf.zeros(outputlayers))\n",
    "    logits = tf.matmul(fc2, fc3_W) + fc3_b\n",
    "    \n",
    "    layers = [conv1, conv1_W, conv2, conv2_W, fc1, fc2]\n",
    "    \n",
    "    return logits, layers\n"
   ]
  },
  {
   "cell_type": "code",
   "execution_count": null,
   "metadata": {
    "collapsed": true,
    "deletable": true,
    "editable": true
   },
   "outputs": [],
   "source": [
    "def prelu(x):\n",
    "    pos = tf.nn.relu(x)\n",
    "    neg = 0.1 * (x - abs(x)) * 0.5\n",
    "\n",
    "    return pos + neg"
   ]
  },
  {
   "cell_type": "code",
   "execution_count": null,
   "metadata": {
    "collapsed": true,
    "deletable": true,
    "editable": true
   },
   "outputs": [],
   "source": [
    "def LeNet_modified(x, keep_prob, inputlayers, outputlayers, mu, sigma):    \n",
    "    \n",
    "    # Layer 1: Convolutional. Input = 32x32x inputlayers. Output = 28x28x6.\n",
    "    conv1_W = tf.Variable(tf.truncated_normal(shape=(5, 5, inputlayers, 6), mean = mu, stddev = sigma))\n",
    "    conv1_b = tf.Variable(tf.zeros(6))\n",
    "    conv1   = tf.nn.conv2d(x, conv1_W, strides=[1, 1, 1, 1], padding='VALID') + conv1_b\n",
    "\n",
    "    # Pooling. Input = 28x28x6. Output = 14x14x6.\n",
    "    conv1 = tf.nn.max_pool(conv1, ksize=[1, 2, 2, 1], strides=[1, 2, 2, 1], padding='VALID')\n",
    "\n",
    "    # Activation.\n",
    "    conv1 = prelu(conv1)\n",
    "    \n",
    "    # Layer 2: Convolutional. Output = 10x10x16.\n",
    "    conv2_W = tf.Variable(tf.truncated_normal(shape=(5, 5, 6, 16), mean = mu, stddev = sigma))\n",
    "    conv2_b = tf.Variable(tf.zeros(16))\n",
    "    conv2   = tf.nn.conv2d(conv1, conv2_W, strides=[1, 1, 1, 1], padding='VALID') + conv2_b\n",
    "    \n",
    "    # Pooling. Input = 10x10x16. Output = 5x5x16.\n",
    "    conv2 = tf.nn.max_pool(conv2, ksize=[1, 2, 2, 1], strides=[1, 2, 2, 1], padding='VALID')\n",
    "    \n",
    "    # Activation.\n",
    "    conv2 = prelu(conv2)   \n",
    "    \n",
    "    # Layer 3: Convolutional. Output = 1x1x400.\n",
    "    conv3_W = tf.Variable(tf.truncated_normal(shape=(5, 5, 16, 400), mean = mu, stddev = sigma))\n",
    "    conv3_b = tf.Variable(tf.zeros(400))\n",
    "    conv3   = tf.nn.conv2d(conv2, conv3_W, strides=[1, 1, 1, 1], padding='VALID') + conv3_b   \n",
    "    \n",
    "    # Activation.\n",
    "    conv3 = prelu(conv3)\n",
    "    \n",
    "    # Flatten. Input = 5x5x16. Output = 400.\n",
    "    fc01 = flatten(conv2)\n",
    "    \n",
    "    # Flatten. Input = 1x1x400. Output = 400.\n",
    "    fc02 = flatten(conv3)\n",
    "    \n",
    "    # Concat fc01 and fc02\n",
    "    fc0 = tf.concat([fc02, fc01], 1)\n",
    "    \n",
    "    # Dropout\n",
    "    fc0 = tf.nn.dropout(fc0, keep_prob)\n",
    "    \n",
    "    # Layer 4: Fully Connected. Input = 800. Output = outputlayers.\n",
    "    fc1_W = tf.Variable(tf.truncated_normal(shape=(800, outputlayers), mean = mu, stddev = sigma))\n",
    "    fc1_b = tf.Variable(tf.zeros(outputlayers))\n",
    "    logits   = tf.matmul(fc0, fc1_W) + fc1_b\n",
    "    \n",
    "    return logits"
   ]
  },
  {
   "cell_type": "raw",
   "metadata": {
    "collapsed": true,
    "deletable": true,
    "editable": true
   },
   "source": [
    "def LeNet_base(x, inputlayers, outputlayers, mu, sigma):    \n",
    "   \n",
    "    # TODO: Layer 1: Convolutional. Input = 32x32x1. Output = 28x28x6.\n",
    "    W1 = tf.Variable(tf.truncated_normal(shape=(5, 5, inputlayers, 6), mean = mu, stddev = sigma), name=\"W1\")\n",
    "    x = tf.nn.conv2d(x, W1, strides=[1, 1, 1, 1], padding='VALID')\n",
    "    b1 = tf.Variable(tf.zeros(6), name=\"b1\")\n",
    "    x = tf.nn.bias_add(x, b1)\n",
    "    print(\"layer 1 shape:\",x.get_shape())\n",
    "   \n",
    "    \n",
    "    # TODO: Activation.\n",
    "    #x = tf.nn.relu(x)\n",
    "    #x = prelu(x)\n",
    "    # TODO: Pooling. Input = 28x28x6. Output = 14x14x6.\n",
    "    x = tf.nn.max_pool(x, ksize=[1, 2, 2, 1], strides=[1, 2, 2, 1], padding='VALID')\n",
    "        \n",
    "    x = prelu(x)\n",
    "\n",
    "    \n",
    "    \n",
    "    layer1 = x\n",
    "    \n",
    "    # TODO: Layer 2: Convolutional. Output = 10x10x16.\n",
    "    W2 = tf.Variable(tf.truncated_normal(shape=(5, 5, 6, 16), mean = mu, stddev = sigma), name=\"W2\")\n",
    "    x = tf.nn.conv2d(x, W2, strides=[1, 1, 1, 1], padding='VALID')\n",
    "    b2 = tf.Variable(tf.zeros(16), name=\"b2\")\n",
    "    x = tf.nn.bias_add(x, b2)\n",
    "                     \n",
    "    # TODO: Activation.\n",
    "    #x = tf.nn.relu(x)\n",
    "    #x = prelu(x)\n",
    "    # TODO: Pooling. Input = 10x10x16. Output = 5x5x16.\n",
    "    x = tf.nn.max_pool(x, ksize=[1, 2, 2, 1], strides=[1, 2, 2, 1], padding='VALID')\n",
    "    \n",
    "    x = prelu(x)\n",
    "    \n",
    "    \n",
    "    layer2 = x\n",
    "    \n",
    "    # TODO: Layer 3: Convolutional. Output = 1x1x400.\n",
    "    W3 = tf.Variable(tf.truncated_normal(shape=(5, 5, 16, 400), mean = mu, stddev = sigma), name=\"W3\")\n",
    "    x = tf.nn.conv2d(x, W3, strides=[1, 1, 1, 1], padding='VALID')\n",
    "    b3 = tf.Variable(tf.zeros(400), name=\"b3\")\n",
    "    x = tf.nn.bias_add(x, b3)\n",
    "                     \n",
    "    # TODO: Activation.\n",
    "    x = prelu(x)\n",
    "    #x = tf.nn.relu(x)\n",
    "    \n",
    "    layer3 = x\n",
    "\n",
    "    # TODO: Flatten. Input = 5x5x16. Output = 400.\n",
    "    layer2flat = flatten(layer2)\n",
    "    print(\"layer2flat shape:\",layer2flat.get_shape())\n",
    "    \n",
    "    # Flatten x. Input = 1x1x400. Output = 400.\n",
    "    xflat = flatten(x)\n",
    "    print(\"xflat shape:\",xflat.get_shape())\n",
    "    \n",
    "    # Concat layer2flat and x. Input = 400 + 400. Output = 800\n",
    "    x = tf.concat_v2([xflat, layer2flat], 1)\n",
    "    print(\"x shape:\", x.get_shape())\n",
    "    \n",
    "    # Dropout\n",
    "    #x = tf.nn.dropout(x, keep_prob)\n",
    "    \n",
    "    # TODO: Layer 4: Fully Connected. Input = 800. Output = outputlayers.\n",
    "    W4 = tf.Variable(tf.truncated_normal(shape=(800, outputlayers), mean = mu, stddev = sigma), name=\"W4\")\n",
    "    b4 = tf.Variable(tf.zeros(outputlayers), name=\"b4\")    \n",
    "    logits = tf.add(tf.matmul(x, W4), b4)\n",
    "    \n",
    "    # TODO: Activation.\n",
    "    #x = tf.nn.relu(x)\n",
    "\n",
    "    # TODO: Layer 5: Fully Connected. Input = 120. Output = 84.\n",
    "    #W5 = tf.Variable(tf.truncated_normal(shape=(120, 84), mean = mu, stddev = sigma))\n",
    "    #b5 = tf.Variable(tf.zeros(84)) \n",
    "    #x = tf.add(tf.matmul(x, W5), b5)\n",
    "    \n",
    "    # TODO: Activation.\n",
    "    #x = tf.nn.relu(x)\n",
    "\n",
    "    # TODO: Layer 6: Fully Connected. Input = 84. Output = 43.\n",
    "    #W6 = tf.Variable(tf.truncated_normal(shape=(84, 43), mean = mu, stddev = sigma))\n",
    "    #b6 = tf.Variable(tf.zeros(43)) \n",
    "    #logits = tf.add(tf.matmul(x, W6), b6)\n",
    "    \n",
    "    return logits\n"
   ]
  },
  {
   "cell_type": "markdown",
   "metadata": {
    "deletable": true,
    "editable": true
   },
   "source": [
    "### Train, Validate and Test the Model"
   ]
  },
  {
   "cell_type": "markdown",
   "metadata": {
    "deletable": true,
    "editable": true
   },
   "source": [
    "A validation set can be used to assess how well the model is performing. A low accuracy on the training and validation\n",
    "sets imply underfitting. A high accuracy on the training set but low accuracy on the validation set implies overfitting."
   ]
  },
  {
   "cell_type": "code",
   "execution_count": null,
   "metadata": {
    "collapsed": true,
    "deletable": true,
    "editable": true
   },
   "outputs": [],
   "source": [
    "### Train your model here.\n",
    "### Calculate and report the accuracy on the training and validation set.\n",
    "### Once a final model architecture is selected, \n",
    "### the accuracy on the test set should be calculated and reported as well.\n",
    "### Feel free to use as many code cells as needed."
   ]
  },
  {
   "cell_type": "markdown",
   "metadata": {
    "deletable": true,
    "editable": true
   },
   "source": [
    "http://nmarkou.blogspot.ca/2017/02/the-black-magic-of-deep-learning-tips.html?utm_content=bufferab398&utm_medium=social&utm_source=twitter.com&utm_campaign=buffer&m=1\n",
    "\n",
    "http://www.kdnuggets.com/2016/03/must-know-tips-deep-learning-part-1.html"
   ]
  },
  {
   "cell_type": "markdown",
   "metadata": {
    "deletable": true,
    "editable": true
   },
   "source": [
    "#### Train and Validate"
   ]
  },
  {
   "cell_type": "code",
   "execution_count": null,
   "metadata": {
    "collapsed": true,
    "deletable": true,
    "editable": true
   },
   "outputs": [],
   "source": [
    "def evaluate(X_data, y_data, x, y, keep_prob, accuracy_operation):\n",
    "        num_examples = len(X_data)\n",
    "        total_accuracy = 0\n",
    "        \n",
    "        sess = tf.get_default_session()\n",
    "        for offset in range(0, num_examples, BATCH_SIZE):\n",
    "            batch_x, batch_y = X_data[offset:offset+BATCH_SIZE], y_data[offset:offset+BATCH_SIZE]\n",
    "            accuracy = sess.run(accuracy_operation, feed_dict={x: batch_x, y: batch_y, keep_prob: 1})\n",
    "            total_accuracy += (accuracy * len(batch_x))\n",
    "            \n",
    "        return total_accuracy / num_examples"
   ]
  },
  {
   "cell_type": "code",
   "execution_count": null,
   "metadata": {
    "collapsed": true,
    "deletable": true,
    "editable": true
   },
   "outputs": [],
   "source": [
    "def train_and_validate(X_train, y_train, X_valid, y_valid, model, EPOCHS, BATCH_SIZE, rate, mu, sigma, keep_p):\n",
    "    inputlayers = X_train.shape[3]\n",
    "    outputlayers = n_classes\n",
    "    \n",
    "    tf.reset_default_graph() \n",
    "\n",
    "    x = tf.placeholder(tf.float32, (None, 32, 32, inputlayers))\n",
    "    y = tf.placeholder(tf.int32, (None))\n",
    "    keep_prob = tf.placeholder(tf.float32)\n",
    "    one_hot_y = tf.one_hot(y, n_classes)\n",
    "\n",
    "    logits, layers = model(x, keep_prob, inputlayers, outputlayers, mu, sigma)\n",
    "    cross_entropy = tf.nn.softmax_cross_entropy_with_logits(logits=logits, labels=one_hot_y)\n",
    "    loss_operation = tf.reduce_mean(cross_entropy)\n",
    "    optimizer = tf.train.AdamOptimizer(learning_rate = rate)\n",
    "    training_operation = optimizer.minimize(loss_operation)  \n",
    "    \n",
    "    correct_prediction = tf.equal(tf.argmax(logits, 1), tf.argmax(one_hot_y, 1))\n",
    "    accuracy_operation = tf.reduce_mean(tf.cast(correct_prediction, tf.float32))\n",
    "    saver = tf.train.Saver()\n",
    "    \n",
    "    with tf.Session() as sess:\n",
    "        sess.run(tf.global_variables_initializer())\n",
    "        num_examples = len(X_train)\n",
    "        total_loss = 0.\n",
    "        \n",
    "        eval_dict = {'EPOCH':[],'Loss':[],'Training Accuracy':[],'Validation Accuracy':[]}\n",
    "\n",
    "        print(\"Training...\")\n",
    "        print()\n",
    "        for i in range(EPOCHS):\n",
    "            X_train, y_train = shuffle(X_train, y_train)\n",
    "            for offset in range(0, num_examples, BATCH_SIZE):\n",
    "                end = offset + BATCH_SIZE\n",
    "                batch_x, batch_y = X_train[offset:end], y_train[offset:end]\n",
    "                _, loss = sess.run([training_operation, loss_operation], feed_dict={x: batch_x, y: batch_y, keep_prob: keep_p})\n",
    "                total_loss += (loss * len(batch_x))\n",
    "                \n",
    "            total_loss /= num_examples\n",
    "            validation_accuracy = evaluate(X_valid, y_valid, x, y, keep_prob, accuracy_operation)\n",
    "            training_accuracy = evaluate(X_train, y_train, x, y, keep_prob, accuracy_operation)\n",
    "            \n",
    "            eval_dict['EPOCH'] += [i+1]\n",
    "            eval_dict['Loss'] += [total_loss]\n",
    "            eval_dict['Training Accuracy'] += [training_accuracy]\n",
    "            eval_dict['Validation Accuracy'] += [validation_accuracy]\n",
    "            \n",
    "            print(\"EPOCH {} ...\".format(i+1))\n",
    "            print(\"Loss = {:.3f}\".format(total_loss))\n",
    "            print(\"Training Accuracy = {:.3f}\".format(training_accuracy))\n",
    "            print(\"Validation Accuracy = {:.3f}\".format(validation_accuracy))\n",
    "            print()\n",
    "\n",
    "        saver.save(sess, './lenet')\n",
    "        print(\"Model saved\")\n",
    "        \n",
    "\n",
    "    \n",
    "    return eval_dict, x, y, keep_prob, layers, logits, accuracy_operation, saver\n",
    "    "
   ]
  },
  {
   "cell_type": "code",
   "execution_count": null,
   "metadata": {
    "collapsed": false,
    "deletable": true,
    "editable": true
   },
   "outputs": [],
   "source": [
    "def plot_eval_dict(eval_dict):\n",
    "    fig, axs = plt.subplots(1, 2, figsize=(17, 5))\n",
    "    axs[0].plot(eval_dict['EPOCH'], eval_dict['Loss'])\n",
    "    axs[0].set_xlabel('EPOCH')\n",
    "    axs[0].set_ylabel('Loss')\n",
    "    axs[1].plot(eval_dict['EPOCH'], eval_dict['Validation Accuracy'],label='Validation Accuracy')\n",
    "    axs[1].plot(eval_dict['EPOCH'], eval_dict['Training Accuracy'], label='Training Accuracy')\n",
    "    axs[1].legend()\n",
    "    axs[1].set_xlabel('EPOCH')\n",
    "    _ = axs[1].set_ylabel('Accuracy')"
   ]
  },
  {
   "cell_type": "code",
   "execution_count": null,
   "metadata": {
    "collapsed": true,
    "deletable": true,
    "editable": true
   },
   "outputs": [],
   "source": [
    "EPOCHS = 10\n",
    "BATCH_SIZE = 128\n",
    "rate = 0.001\n",
    "mu = 0\n",
    "sigma = np.sqrt(2/(X_train.shape[1]*X_train.shape[2]))   #*X_train.shape[3]\n",
    "keep_p = 0.5"
   ]
  },
  {
   "cell_type": "code",
   "execution_count": null,
   "metadata": {
    "collapsed": false,
    "deletable": true,
    "editable": true
   },
   "outputs": [],
   "source": [
    "eval_dict, x, y, keep_prob, layers, logits, accuracy_operation, saver = train_and_validate(X_train, y_train, X_valid, y_valid, LeNet, EPOCHS, BATCH_SIZE, rate, mu, sigma, keep_p)"
   ]
  },
  {
   "cell_type": "code",
   "execution_count": null,
   "metadata": {
    "collapsed": false,
    "deletable": true,
    "editable": true
   },
   "outputs": [],
   "source": [
    "with tf.Session() as sess:\n",
    "    saver.restore(sess, tf.train.latest_checkpoint('.'))\n",
    "\n",
    "    test_accuracy = evaluate(X_test, y_test, x, y, keep_prob, accuracy_operation)\n",
    "    \n",
    "    print(\"Test Accuracy = {:.3f}\".format(test_accuracy))"
   ]
  },
  {
   "cell_type": "code",
   "execution_count": null,
   "metadata": {
    "collapsed": false,
    "deletable": true,
    "editable": true
   },
   "outputs": [],
   "source": [
    "import sklearn.metrics as skm\n",
    "\n",
    "with tf.Session() as sess:\n",
    "    saver.restore(sess, tf.train.latest_checkpoint('.'))\n",
    "\n",
    "    y_pred = sess.run(tf.argmax(logits, 1), feed_dict={x:X_test, keep_prob:1})\n",
    "\n",
    "print(\"Precision = {:.3f}\".format(skm.precision_score(y_pred, y_test, average=\"macro\")))\n",
    "print(\"Recall = {:.3f}\".format(skm.recall_score(y_pred, y_test, average=\"macro\")))"
   ]
  },
  {
   "cell_type": "code",
   "execution_count": null,
   "metadata": {
    "collapsed": false,
    "deletable": true,
    "editable": true
   },
   "outputs": [],
   "source": [
    "plot_eval_dict(eval_dict)"
   ]
  },
  {
   "cell_type": "raw",
   "metadata": {
    "collapsed": false,
    "deletable": true,
    "editable": true
   },
   "source": [
    "eval_dict, x, y, keep_prob, logits, accuracy_operation, saver = train_and_validate(X_train, y_train, X_valid, y_valid, LeNet_modified, EPOCHS, BATCH_SIZE, rate, mu, sigma)"
   ]
  },
  {
   "cell_type": "raw",
   "metadata": {
    "deletable": true,
    "editable": true
   },
   "source": [
    "plot_eval_dict(eval_dict)"
   ]
  },
  {
   "cell_type": "raw",
   "metadata": {
    "collapsed": false,
    "deletable": true,
    "editable": true
   },
   "source": [
    "x, y, logits, accuracy_operation, saver = train_and_validate(X_train, y_train, X_valid, y_valid, LeNet_base, EPOCHS, BATCH_SIZE, rate, mu, sigma)"
   ]
  },
  {
   "cell_type": "markdown",
   "metadata": {
    "deletable": true,
    "editable": true
   },
   "source": [
    "#### Test"
   ]
  },
  {
   "cell_type": "raw",
   "metadata": {
    "collapsed": false,
    "deletable": true,
    "editable": true
   },
   "source": [
    "with tf.Session() as sess:\n",
    "    saver.restore(sess, tf.train.latest_checkpoint('.'))\n",
    "\n",
    "    test_accuracy = evaluate(X_test, y_test, x, y, keep_prob, accuracy_operation)\n",
    "    print(\"Test Accuracy = {:.3f}\".format(test_accuracy))"
   ]
  },
  {
   "cell_type": "markdown",
   "metadata": {
    "deletable": true,
    "editable": true
   },
   "source": [
    "---\n",
    "\n",
    "## Step 3: Test a Model on New Images\n",
    "\n",
    "To give yourself more insight into how your model is working, download at least five pictures of German traffic signs from the web and use your model to predict the traffic sign type.\n",
    "\n",
    "You may find `signnames.csv` useful as it contains mappings from the class id (integer) to the actual sign name."
   ]
  },
  {
   "cell_type": "markdown",
   "metadata": {
    "deletable": true,
    "editable": true
   },
   "source": [
    "### Load and Output the Images"
   ]
  },
  {
   "cell_type": "code",
   "execution_count": null,
   "metadata": {
    "collapsed": true,
    "deletable": true,
    "editable": true
   },
   "outputs": [],
   "source": [
    "### Load the images and plot them here.\n",
    "### Feel free to use as many code cells as needed."
   ]
  },
  {
   "cell_type": "code",
   "execution_count": null,
   "metadata": {
    "collapsed": false,
    "deletable": true,
    "editable": true
   },
   "outputs": [],
   "source": [
    "import matplotlib.image as mpimg\n",
    "\n",
    "fig, axs = plt.subplots(1, 8, figsize=(17, 5))\n",
    "axs = axs.ravel()\n",
    "\n",
    "images = []\n",
    "labels = [15, 1, 13, 40, 17, 25, 12, 28]\n",
    "\n",
    "for i in range(8):\n",
    "    img = './signs/'+str(i)+'.jpg'\n",
    "    image = cv2.cvtColor(cv2.imread(img), cv2.COLOR_BGR2RGB)\n",
    "\n",
    "    axs[i].axis('off')\n",
    "    axs[i].imshow(image) \n",
    "    axs[i].set_title(str(labels[i])+'  '+str(image.shape))\n",
    "    images += [image]\n",
    "\n",
    "images_RGB = np.asarray(images)\n",
    "\n",
    "images = np.sum(images_RGB//3, axis=3, keepdims=True).astype('uint8')"
   ]
  },
  {
   "cell_type": "markdown",
   "metadata": {
    "deletable": true,
    "editable": true
   },
   "source": [
    "### Predict the Sign Type for Each Image"
   ]
  },
  {
   "cell_type": "code",
   "execution_count": null,
   "metadata": {
    "collapsed": true,
    "deletable": true,
    "editable": true
   },
   "outputs": [],
   "source": [
    "### Run the predictions here and use the model to output the prediction for each image.\n",
    "### Make sure to pre-process the images with the same pre-processing pipeline used earlier.\n",
    "### Feel free to use as many code cells as needed."
   ]
  },
  {
   "cell_type": "markdown",
   "metadata": {
    "deletable": true,
    "editable": true
   },
   "source": [
    "### Analyze Performance"
   ]
  },
  {
   "cell_type": "code",
   "execution_count": null,
   "metadata": {
    "collapsed": true,
    "deletable": true,
    "editable": true
   },
   "outputs": [],
   "source": [
    "### Calculate the accuracy for these 5 new images. \n",
    "### For example, if the model predicted 1 out of 5 signs correctly, it's 20% accurate on these new images."
   ]
  },
  {
   "cell_type": "code",
   "execution_count": null,
   "metadata": {
    "collapsed": false,
    "deletable": true,
    "editable": true
   },
   "outputs": [],
   "source": [
    "with tf.Session() as sess:\n",
    "    sess.run(tf.global_variables_initializer())\n",
    "    saver = tf.train.import_meta_graph('./lenet.meta')\n",
    "    saver.restore(sess, \"./lenet\")\n",
    "    accuracy = evaluate(images, labels, x, y, keep_prob, accuracy_operation)\n",
    "    print(\"Test Set Accuracy = {:.3f}\".format(accuracy))"
   ]
  },
  {
   "cell_type": "markdown",
   "metadata": {
    "deletable": true,
    "editable": true
   },
   "source": [
    "### Output Top 5 Softmax Probabilities For Each Image Found on the Web"
   ]
  },
  {
   "cell_type": "markdown",
   "metadata": {
    "deletable": true,
    "editable": true
   },
   "source": [
    "For each of the new images, print out the model's softmax probabilities to show the **certainty** of the model's predictions (limit the output to the top 5 probabilities for each image). [`tf.nn.top_k`](https://www.tensorflow.org/versions/r0.12/api_docs/python/nn.html#top_k) could prove helpful here. \n",
    "\n",
    "The example below demonstrates how tf.nn.top_k can be used to find the top k predictions for each image.\n",
    "\n",
    "`tf.nn.top_k` will return the values and indices (class ids) of the top k predictions. So if k=3, for each sign, it'll return the 3 largest probabilities (out of a possible 43) and the correspoding class ids.\n",
    "\n",
    "Take this numpy array as an example. The values in the array represent predictions. The array contains softmax probabilities for five candidate images with six possible classes. `tk.nn.top_k` is used to choose the three classes with the highest probability:\n",
    "\n",
    "```\n",
    "# (5, 6) array\n",
    "a = np.array([[ 0.24879643,  0.07032244,  0.12641572,  0.34763842,  0.07893497,\n",
    "         0.12789202],\n",
    "       [ 0.28086119,  0.27569815,  0.08594638,  0.0178669 ,  0.18063401,\n",
    "         0.15899337],\n",
    "       [ 0.26076848,  0.23664738,  0.08020603,  0.07001922,  0.1134371 ,\n",
    "         0.23892179],\n",
    "       [ 0.11943333,  0.29198961,  0.02605103,  0.26234032,  0.1351348 ,\n",
    "         0.16505091],\n",
    "       [ 0.09561176,  0.34396535,  0.0643941 ,  0.16240774,  0.24206137,\n",
    "         0.09155967]])\n",
    "```\n",
    "\n",
    "Running it through `sess.run(tf.nn.top_k(tf.constant(a), k=3))` produces:\n",
    "\n",
    "```\n",
    "TopKV2(values=array([[ 0.34763842,  0.24879643,  0.12789202],\n",
    "       [ 0.28086119,  0.27569815,  0.18063401],\n",
    "       [ 0.26076848,  0.23892179,  0.23664738],\n",
    "       [ 0.29198961,  0.26234032,  0.16505091],\n",
    "       [ 0.34396535,  0.24206137,  0.16240774]]), indices=array([[3, 0, 5],\n",
    "       [0, 1, 4],\n",
    "       [0, 5, 1],\n",
    "       [1, 3, 5],\n",
    "       [1, 4, 3]], dtype=int32))\n",
    "```\n",
    "\n",
    "Looking just at the first row we get `[ 0.34763842,  0.24879643,  0.12789202]`, you can confirm these are the 3 largest probabilities in `a`. You'll also notice `[3, 0, 5]` are the corresponding indices."
   ]
  },
  {
   "cell_type": "code",
   "execution_count": null,
   "metadata": {
    "collapsed": true,
    "deletable": true,
    "editable": true
   },
   "outputs": [],
   "source": [
    "### Print out the top five softmax probabilities for the predictions on the German traffic sign images found on the web. \n",
    "### Feel free to use as many code cells as needed."
   ]
  },
  {
   "cell_type": "code",
   "execution_count": null,
   "metadata": {
    "collapsed": false,
    "deletable": true,
    "editable": true
   },
   "outputs": [],
   "source": [
    "softmax_logits = tf.nn.softmax(logits)\n",
    "top_k = tf.nn.top_k(softmax_logits, k=5)\n",
    "\n",
    "with tf.Session() as sess:\n",
    "    sess.run(tf.global_variables_initializer())\n",
    "    saver = tf.train.import_meta_graph('./lenet.meta')\n",
    "    saver.restore(sess, \"./lenet\")\n",
    "    \n",
    "    sl = sess.run(softmax_logits, feed_dict={x: images, keep_prob: 1})\n",
    "    tk = sess.run(top_k, feed_dict={x: images, keep_prob: 1})"
   ]
  },
  {
   "cell_type": "code",
   "execution_count": null,
   "metadata": {
    "collapsed": false,
    "deletable": true,
    "editable": true
   },
   "outputs": [],
   "source": [
    "fig, axs = plt.subplots(len(images_RGB), 3, figsize=(17, len(images_RGB)*3))\n",
    "\n",
    "for i, image in enumerate(images_RGB):\n",
    "    axs[i, 0].axis('off')\n",
    "    axs[i, 0].imshow(image)    \n",
    "    axs[i, 0].set_title('Input: '+str(labels[i]))\n",
    "\n",
    "    prediction = tk[1][i][0]\n",
    "    sign = np.argwhere(y_valid == prediction)[10]\n",
    "    axs[i, 1].axis('off')\n",
    "    axs[i, 1].imshow(X_RGB_valid[sign].squeeze())\n",
    "    axs[i, 1].set_title('Prediction: '+str(prediction)+'  {:.2f}'.format(tk[0][i][0]))\n",
    "    \n",
    "    axs[i, 2].bar(np.arange(5), tk[0][i])   \n",
    "    axs[i, 2].set_xticklabels(['-']+list(tk[1][i]), minor=False)"
   ]
  },
  {
   "cell_type": "code",
   "execution_count": null,
   "metadata": {
    "collapsed": true,
    "deletable": true,
    "editable": true
   },
   "outputs": [],
   "source": [
    "cnf_matrix = skm.confusion_matrix(y_test, y_pred)"
   ]
  },
  {
   "cell_type": "code",
   "execution_count": null,
   "metadata": {
    "collapsed": false,
    "deletable": true,
    "editable": true
   },
   "outputs": [],
   "source": [
    "index = np.arange(43)\n",
    "precision = cnf_matrix[index, index] / np.sum(cnf_matrix, axis=0)\n",
    "recall = cnf_matrix[index, index] / np.sum(cnf_matrix, axis=1)"
   ]
  },
  {
   "cell_type": "code",
   "execution_count": null,
   "metadata": {
    "collapsed": false,
    "deletable": true,
    "editable": true
   },
   "outputs": [],
   "source": [
    "import pandas as pd\n",
    "df = pd.DataFrame({'Labels': labels, 'Precision':precision[labels], 'Recall': recall[labels], 'Frequencies':hist[0][labels]})\n",
    "df.set_index('Labels', inplace=True)\n",
    "df"
   ]
  },
  {
   "cell_type": "markdown",
   "metadata": {
    "deletable": true,
    "editable": true
   },
   "source": [
    "If one of the new images is a stop sign but was predicted to be a bumpy road sign, then we might expect a low recall for stop signs. In other words, the model has trouble predicting on stop signs. If one of the new images is a 100 km/h sign but was predicted to be a stop sign, we might expect precision to be low for stop signs. In other words, if the model says something is a stop sign, we're not very sure that it really is a stop sign.\n",
    "Looking at performance of individual sign types can help guide how to better augment the data set or how to fine tune the model."
   ]
  },
  {
   "cell_type": "markdown",
   "metadata": {
    "deletable": true,
    "editable": true
   },
   "source": [
    "---\n",
    "\n",
    "## Step 4: Visualize the Neural Network's State with Test Images\n",
    "\n",
    " This Section is not required to complete but acts as an additional excersise for understaning the output of a neural network's weights. While neural networks can be a great learning device they are often referred to as a black box. We can understand what the weights of a neural network look like better by plotting their feature maps. After successfully training your neural network you can see what it's feature maps look like by plotting the output of the network's weight layers in response to a test stimuli image. From these plotted feature maps, it's possible to see what characteristics of an image the network finds interesting. For a sign, maybe the inner network feature maps react with high activation to the sign's boundary outline or to the contrast in the sign's painted symbol.\n",
    "\n",
    " Provided for you below is the function code that allows you to get the visualization output of any tensorflow weight layer you want. The inputs to the function should be a stimuli image, one used during training or a new one you provided, and then the tensorflow variable name that represents the layer's state during the training process, for instance if you wanted to see what the [LeNet lab's](https://classroom.udacity.com/nanodegrees/nd013/parts/fbf77062-5703-404e-b60c-95b78b2f3f9e/modules/6df7ae49-c61c-4bb2-a23e-6527e69209ec/lessons/601ae704-1035-4287-8b11-e2c2716217ad/concepts/d4aca031-508f-4e0b-b493-e7b706120f81) feature maps looked like for it's second convolutional layer you could enter conv2 as the tf_activation variable.\n",
    "\n",
    "For an example of what feature map outputs look like, check out NVIDIA's results in their paper [End-to-End Deep Learning for Self-Driving Cars](https://devblogs.nvidia.com/parallelforall/deep-learning-self-driving-cars/) in the section Visualization of internal CNN State. NVIDIA was able to show that their network's inner weights had high activations to road boundary lines by comparing feature maps from an image with a clear path to one without. Try experimenting with a similar test to show that your trained network's weights are looking for interesting features, whether it's looking at differences in feature maps from images with or without a sign, or even what feature maps look like in a trained network vs a completely untrained one on the same sign image.\n",
    "\n",
    "<figure>\n",
    " <img src=\"visualize_cnn.png\" width=\"380\" alt=\"Combined Image\" />\n",
    " <figcaption>\n",
    " <p></p> \n",
    " <p style=\"text-align: center;\"> Your output should look something like this (above)</p> \n",
    " </figcaption>\n",
    "</figure>\n",
    " <p></p> \n"
   ]
  },
  {
   "cell_type": "code",
   "execution_count": null,
   "metadata": {
    "collapsed": false,
    "deletable": true,
    "editable": true
   },
   "outputs": [],
   "source": [
    "### Visualize your network's feature maps here.\n",
    "### Feel free to use as many code cells as needed.\n",
    "\n",
    "# image_input: the test image being fed into the network to produce the feature maps\n",
    "# tf_activation: should be a tf variable name used during your training procedure that represents the calculated state of a specific weight layer\n",
    "# activation_min/max: can be used to view the activation contrast in more detail, by default matplot sets min and max to the actual min and max values of the output\n",
    "# plt_num: used to plot out multiple different weight feature map sets on the same block, just extend the plt number for each new feature map entry\n",
    "\n",
    "def outputFeatureMap(image_input, x,  tf_activation, activation_min=-1, activation_max=-1 ,plt_num=1):\n",
    "    # Here make sure to preprocess your image_input in a way your network expects\n",
    "    # with size, normalization, ect if needed\n",
    "    # image_input =\n",
    "    # Note: x should be the same name as your network's tensorflow data placeholder variable\n",
    "    # If you get an error tf_activation is not defined it maybe having trouble accessing the variable from inside a function\n",
    "    with tf.Session() as sess:\n",
    "        sess.run(tf.global_variables_initializer())\n",
    "        saver = tf.train.import_meta_graph('./lenet.meta')\n",
    "        saver.restore(sess, \"./lenet\")\n",
    "        activation = tf_activation.eval(session=sess,feed_dict={x : image_input[None,:,:,:]})\n",
    "        \n",
    "    featuremaps = activation.shape[3]\n",
    "    plt.figure(plt_num, figsize=(15,15))\n",
    "    for featuremap in range(featuremaps):\n",
    "        plt.subplot(6,8, featuremap+1) # sets the number of feature maps to show on each row and column\n",
    "        plt.title('FeatureMap ' + str(featuremap)) # displays the feature map number\n",
    "        if activation_min != -1 & activation_max != -1:\n",
    "            plt.imshow(activation[0,:,:, featuremap], interpolation=\"nearest\", vmin =activation_min, vmax=activation_max, cmap=\"gray\")\n",
    "        elif activation_max != -1:\n",
    "            plt.imshow(activation[0,:,:, featuremap], interpolation=\"nearest\", vmax=activation_max, cmap=\"gray\")\n",
    "        elif activation_min !=-1:\n",
    "            plt.imshow(activation[0,:,:, featuremap], interpolation=\"nearest\", vmin=activation_min, cmap=\"gray\")\n",
    "        else:\n",
    "            plt.imshow(activation[0,:,:, featuremap], interpolation=\"nearest\", cmap=\"gray\")"
   ]
  },
  {
   "cell_type": "code",
   "execution_count": null,
   "metadata": {
    "collapsed": false
   },
   "outputs": [],
   "source": [
    "outputFeatureMap(images[0], x, layers[0], activation_min=-1, activation_max=-1 ,plt_num=1)"
   ]
  },
  {
   "cell_type": "code",
   "execution_count": null,
   "metadata": {
    "collapsed": false
   },
   "outputs": [],
   "source": [
    "outputFeatureMap(images[4], x, layers[0], activation_min=-1, activation_max=-1 ,plt_num=1)"
   ]
  },
  {
   "cell_type": "code",
   "execution_count": null,
   "metadata": {
    "collapsed": false
   },
   "outputs": [],
   "source": [
    "outputFeatureMap(images[6], x,  layers[0], activation_min=-1, activation_max=-1 ,plt_num=1)"
   ]
  },
  {
   "cell_type": "markdown",
   "metadata": {
    "deletable": true,
    "editable": true
   },
   "source": [
    "### Question 9\n",
    "\n",
    "Discuss how you used the visual output of your trained network's feature maps to show that it had learned to look for interesting characteristics in traffic sign images\n"
   ]
  },
  {
   "cell_type": "markdown",
   "metadata": {
    "deletable": true,
    "editable": true
   },
   "source": [
    "**Answer:**"
   ]
  },
  {
   "cell_type": "markdown",
   "metadata": {
    "deletable": true,
    "editable": true
   },
   "source": [
    "> **Note**: Once you have completed all of the code implementations and successfully answered each question above, you may finalize your work by exporting the iPython Notebook as an HTML document. You can do this by using the menu above and navigating to  \\n\",\n",
    "    \"**File -> Download as -> HTML (.html)**. Include the finished document along with this notebook as your submission."
   ]
  },
  {
   "cell_type": "markdown",
   "metadata": {
    "deletable": true,
    "editable": true
   },
   "source": [
    "### Project Writeup\n",
    "\n",
    "Once you have completed the code implementation, document your results in a project writeup using this [template](https://github.com/udacity/CarND-Traffic-Sign-Classifier-Project/blob/master/writeup_template.md) as a guide. The writeup can be in a markdown or pdf file. "
   ]
  },
  {
   "cell_type": "markdown",
   "metadata": {},
   "source": [
    "## Appendix (code I wanted to keep in this notebook)"
   ]
  },
  {
   "cell_type": "markdown",
   "metadata": {},
   "source": [
    "#### Plotting confusion matrix\n",
    "\n",
    "https://en.wikipedia.org/wiki/Confusion_matrix\n",
    "http://scikit-learn.org/stable/auto_examples/model_selection/plot_confusion_matrix.html#sphx-glr-auto-examples-model-selection-plot-confusion-matrix-py\n"
   ]
  },
  {
   "cell_type": "code",
   "execution_count": null,
   "metadata": {
    "collapsed": false,
    "deletable": true,
    "editable": true
   },
   "outputs": [],
   "source": [
    "import itertools\n",
    "\n",
    "def plot_confusion_matrix(cm, classes,\n",
    "                          normalize=False,\n",
    "                          title='Confusion matrix',\n",
    "                          cmap=plt.cm.Blues):\n",
    "    \"\"\"\n",
    "    This function prints and plots the confusion matrix.\n",
    "    Normalization can be applied by setting `normalize=True`.\n",
    "    \"\"\"\n",
    "    plt.imshow(cm, interpolation='nearest', cmap=cmap)\n",
    "    plt.title(title)\n",
    "    plt.colorbar()\n",
    "    tick_marks = np.arange(len(classes))\n",
    "    plt.xticks(tick_marks, classes)\n",
    "    plt.yticks(tick_marks, classes)\n",
    "\n",
    "    if normalize:\n",
    "        cm = cm.astype('float') / cm.sum(axis=1)[:, np.newaxis]\n",
    "        #print(\"Normalized confusion matrix\")\n",
    "    #else:\n",
    "        #print('Confusion matrix, without normalization')\n",
    "\n",
    "    #print(cm)\n",
    "    thresh = cm.max() / 2.\n",
    "    for i, j in itertools.product(range(cm.shape[0]), range(cm.shape[1])):\n",
    "        \n",
    "        if normalize:\n",
    "            txt = '{:.2f}'.format(cm[i, j])\n",
    "        else:\n",
    "            txt = cm[i, j]\n",
    "        \n",
    "        plt.text(j, i, txt,\n",
    "                 horizontalalignment=\"center\",\n",
    "                 color=\"white\" if cm[i, j] > thresh else \"black\")\n",
    "\n",
    "    plt.tight_layout()\n",
    "    plt.ylabel('True label')\n",
    "    plt.xlabel('Predicted label')"
   ]
  },
  {
   "cell_type": "code",
   "execution_count": null,
   "metadata": {
    "collapsed": false,
    "deletable": true,
    "editable": true
   },
   "outputs": [],
   "source": [
    "# Compute confusion matrix\n",
    "cnf_matrix = skm.confusion_matrix(y_test, y_pred, labels=labels)\n",
    "\n",
    "# Plot non-normalized confusion matrix\n",
    "plt.figure()\n",
    "plot_confusion_matrix(cnf_matrix, classes=labels,\n",
    "                      title='Confusion matrix')\n",
    "\n",
    "plt.figure()\n",
    "plot_confusion_matrix(cnf_matrix, classes=labels, normalize = True,\n",
    "                      title='Confusion matrix with normalization')"
   ]
  },
  {
   "cell_type": "markdown",
   "metadata": {
    "deletable": true,
    "editable": true
   },
   "source": [
    "#### Subsampling for checking convergence on smaller datasets\n",
    "\n",
    "http://cs231n.github.io/neural-networks-3/"
   ]
  },
  {
   "cell_type": "code",
   "execution_count": null,
   "metadata": {
    "collapsed": true
   },
   "outputs": [],
   "source": [
    "def random_subsample(X, y, size):\n",
    "    index = np.random.choice(y, size, replace=False)\n",
    "    \n",
    "    X = np.take(X, index, axis=0).copy()\n",
    "    y = np.take(y, index).copy()\n",
    "    \n",
    "    return X, y"
   ]
  },
  {
   "cell_type": "raw",
   "metadata": {
    "deletable": true,
    "editable": true
   },
   "source": [
    "ratio = 10 #1000\n",
    "\n",
    "X_train, y_train = random_subsample(X_train, y_train, n_train // ratio)\n",
    "X_valid, y_valid = random_subsample(X_valid, y_valid, n_valid // ratio)\n",
    "X_test, y_test = random_subsample(X_test, y_test, n_test // ratio)"
   ]
  }
 ],
 "metadata": {
  "anaconda-cloud": {},
  "kernelspec": {
   "display_name": "Python 3",
   "language": "python",
   "name": "python3"
  },
  "language_info": {
   "codemirror_mode": {
    "name": "ipython",
    "version": 3
   },
   "file_extension": ".py",
   "mimetype": "text/x-python",
   "name": "python",
   "nbconvert_exporter": "python",
   "pygments_lexer": "ipython3",
   "version": "3.5.2"
  },
  "widgets": {
   "state": {},
   "version": "1.1.2"
  }
 },
 "nbformat": 4,
 "nbformat_minor": 1
}
